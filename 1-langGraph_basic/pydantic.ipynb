{
 "cells": [
  {
   "cell_type": "code",
   "execution_count": 2,
   "id": "15c382d3",
   "metadata": {},
   "outputs": [],
   "source": [
    "from langgraph.graph import StateGraph, START, END\n",
    "from pydantic import BaseModel"
   ]
  },
  {
   "cell_type": "code",
   "execution_count": 4,
   "id": "72bab508",
   "metadata": {},
   "outputs": [],
   "source": [
    "class State(BaseModel):\n",
    "    name : str"
   ]
  },
  {
   "cell_type": "code",
   "execution_count": 6,
   "id": "e1325006",
   "metadata": {},
   "outputs": [],
   "source": [
    "# node\n",
    "def example_node(state : State):\n",
    "    return {\"name\" : \"hello\"}"
   ]
  },
  {
   "cell_type": "code",
   "execution_count": 7,
   "id": "a9db378c",
   "metadata": {},
   "outputs": [],
   "source": [
    "builder = StateGraph(State)\n",
    "\n",
    "builder.add_node('example_node', example_node)\n",
    "\n",
    "builder.add_edge(START, \"example_node\")\n",
    "builder.add_edge(\"example_node\", END)\n",
    "\n",
    "graph = builder.compile()"
   ]
  },
  {
   "cell_type": "code",
   "execution_count": 9,
   "id": "b877677a",
   "metadata": {},
   "outputs": [
    {
     "data": {
      "text/plain": [
       "{'name': 'hello'}"
      ]
     },
     "execution_count": 9,
     "metadata": {},
     "output_type": "execute_result"
    }
   ],
   "source": [
    "graph.invoke({\"name\" : \"Mahadi\"})"
   ]
  },
  {
   "cell_type": "code",
   "execution_count": null,
   "id": "910f3318",
   "metadata": {},
   "outputs": [],
   "source": []
  }
 ],
 "metadata": {
  "kernelspec": {
   "display_name": "Python 3",
   "language": "python",
   "name": "python3"
  },
  "language_info": {
   "codemirror_mode": {
    "name": "ipython",
    "version": 3
   },
   "file_extension": ".py",
   "mimetype": "text/x-python",
   "name": "python",
   "nbconvert_exporter": "python",
   "pygments_lexer": "ipython3",
   "version": "3.12.0"
  }
 },
 "nbformat": 4,
 "nbformat_minor": 5
}
