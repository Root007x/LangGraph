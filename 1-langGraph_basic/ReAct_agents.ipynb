{
 "cells": [
  {
   "cell_type": "markdown",
   "id": "52a15a57",
   "metadata": {},
   "source": [
    "## ReAct Agent\n",
    "\n",
    "![alt text](reAct.jpg)"
   ]
  },
  {
   "cell_type": "code",
   "execution_count": 1,
   "id": "7096131e",
   "metadata": {},
   "outputs": [],
   "source": [
    "from langchain_community.tools import ArxivQueryRun, WikipediaQueryRun\n",
    "from langchain_community.utilities import WikipediaAPIWrapper, ArxivAPIWrapper"
   ]
  },
  {
   "cell_type": "code",
   "execution_count": 2,
   "id": "2d451359",
   "metadata": {},
   "outputs": [
    {
     "name": "stdout",
     "output_type": "stream",
     "text": [
      "arxiv\n"
     ]
    }
   ],
   "source": [
    "api_wrapper_arxiv = ArxivAPIWrapper(\n",
    "    top_k_results=2,\n",
    "    doc_content_chars_max=500\n",
    ")\n",
    "\n",
    "arxiv  = ArxivQueryRun(api_wrapper=api_wrapper_arxiv)\n",
    "print(arxiv.name)"
   ]
  },
  {
   "cell_type": "code",
   "execution_count": 3,
   "id": "68d7730a",
   "metadata": {},
   "outputs": [
    {
     "data": {
      "text/plain": [
       "'wikipedia'"
      ]
     },
     "execution_count": 3,
     "metadata": {},
     "output_type": "execute_result"
    }
   ],
   "source": [
    "api_wrapper_wiki = WikipediaAPIWrapper(\n",
    "    top_k_results=1,\n",
    "    doc_content_chars_max=250\n",
    ")\n",
    "\n",
    "wiki = WikipediaQueryRun(api_wrapper=api_wrapper_wiki)\n",
    "wiki.name"
   ]
  },
  {
   "cell_type": "code",
   "execution_count": 4,
   "id": "1f17a05e",
   "metadata": {},
   "outputs": [
    {
     "data": {
      "text/plain": [
       "True"
      ]
     },
     "execution_count": 4,
     "metadata": {},
     "output_type": "execute_result"
    }
   ],
   "source": [
    "from dotenv import load_dotenv\n",
    "load_dotenv()"
   ]
  },
  {
   "cell_type": "code",
   "execution_count": 5,
   "id": "f5d4e02c",
   "metadata": {},
   "outputs": [],
   "source": [
    "import os\n",
    "\n",
    "os.environ[\"TAVILY_API_KEY\"] = os.getenv(\"TAVILY_API_KEY\")\n",
    "os.environ[\"GROQ_API_KEY\"] = os.getenv(\"GROQ_API_KEY\")\n",
    "os.environ[\"LANGCHAIN_API_KEY\"] = os.getenv(\"LANGCHAIN_API_KEY\")\n",
    "os.environ[\"LANGCHAIN_TRACKING_V2\"] = \"true\"\n",
    "os.environ[\"LANGCHAIN_PROJECT\"] = \"ReAct-Agent\""
   ]
  },
  {
   "cell_type": "code",
   "execution_count": 6,
   "id": "2c1688d9",
   "metadata": {},
   "outputs": [],
   "source": [
    "## Custom functions (tools)\n",
    "\n",
    "def add(a : int, b : int) -> int:\n",
    "    \"\"\"Add a and b\n",
    "\n",
    "    Args:\n",
    "        a (int): first int\n",
    "        b (int): second int\n",
    "    \"\"\"\n",
    "    return a + b\n",
    "\n",
    "def multiply(a : int, b : int) -> int:\n",
    "    \"\"\"Multiply a and b\n",
    "\n",
    "    Args:\n",
    "        a (int): first int\n",
    "        b (int): second int\n",
    "    \"\"\"\n",
    "    return a * b\n",
    "\n",
    "def divide(a : int, b : int) -> float:\n",
    "    \"\"\"Divide a and b\n",
    "\n",
    "    Args:\n",
    "        a (int): first int\n",
    "        b (int): second int\n",
    "    \"\"\"\n",
    "    return a / b"
   ]
  },
  {
   "cell_type": "code",
   "execution_count": 7,
   "id": "fd6fa7f6",
   "metadata": {},
   "outputs": [
    {
     "name": "stderr",
     "output_type": "stream",
     "text": [
      "C:\\Users\\BOSS\\AppData\\Local\\Temp\\ipykernel_36764\\1622265974.py:4: LangChainDeprecationWarning: The class `TavilySearchResults` was deprecated in LangChain 0.3.25 and will be removed in 1.0. An updated version of the class exists in the :class:`~langchain-tavily package and should be used instead. To use it run `pip install -U :class:`~langchain-tavily` and import as `from :class:`~langchain_tavily import TavilySearch``.\n",
      "  tavily = TavilySearchResults()\n"
     ]
    }
   ],
   "source": [
    "## Tavily Search Tool\n",
    "from langchain_community.tools.tavily_search import TavilySearchResults\n",
    "\n",
    "tavily = TavilySearchResults()"
   ]
  },
  {
   "cell_type": "code",
   "execution_count": 8,
   "id": "eafee293",
   "metadata": {},
   "outputs": [],
   "source": [
    "## All tools\n",
    "tools = [arxiv, wiki, tavily, add, multiply, divide]"
   ]
  },
  {
   "cell_type": "code",
   "execution_count": 9,
   "id": "e47b9f8d",
   "metadata": {},
   "outputs": [],
   "source": [
    "from langchain_groq import ChatGroq\n",
    "from langchain_core.messages import HumanMessage, AIMessage"
   ]
  },
  {
   "cell_type": "code",
   "execution_count": 10,
   "id": "599c7e05",
   "metadata": {},
   "outputs": [],
   "source": [
    "llm = ChatGroq(\n",
    "    model=\"qwen/qwen3-32b\"\n",
    ")\n",
    "\n",
    "llm_with_tools = llm.bind_tools(tools)"
   ]
  },
  {
   "cell_type": "code",
   "execution_count": 11,
   "id": "c6598bb2",
   "metadata": {},
   "outputs": [
    {
     "data": {
      "text/plain": [
       "AIMessage(content='', additional_kwargs={'reasoning_content': 'Okay, the user is asking \"What is 2 plus 2?\" Let me see which tool I can use here. The available functions include add, multiply, divide, and some others for searching. Since the question is about addition, the \\'add\\' function is the right choice. The parameters required are a and b, both integers. Here, a is 2 and b is 2. So I should call the add function with these values. I don\\'t need to use any other tools here because it\\'s a straightforward arithmetic problem. Let me make sure there\\'s no trick or hidden part in the question. Nope, it\\'s just asking for 2 plus 2. So the answer should be 4.\\n', 'tool_calls': [{'id': 'k1h7razzq', 'function': {'arguments': '{\"a\":2,\"b\":2}', 'name': 'add'}, 'type': 'function'}]}, response_metadata={'token_usage': {'completion_tokens': 175, 'prompt_tokens': 478, 'total_tokens': 653, 'completion_time': 0.288115057, 'prompt_time': 0.618842204, 'queue_time': 1.6732765729999999, 'total_time': 0.906957261}, 'model_name': 'qwen/qwen3-32b', 'system_fingerprint': 'fp_5cf921caa2', 'service_tier': 'on_demand', 'finish_reason': 'tool_calls', 'logprobs': None}, id='run--c31bee0f-2203-4ec6-b922-71587869bb2e-0', tool_calls=[{'name': 'add', 'args': {'a': 2, 'b': 2}, 'id': 'k1h7razzq', 'type': 'tool_call'}], usage_metadata={'input_tokens': 478, 'output_tokens': 175, 'total_tokens': 653})"
      ]
     },
     "execution_count": 11,
     "metadata": {},
     "output_type": "execute_result"
    }
   ],
   "source": [
    "llm_with_tools.invoke([HumanMessage(content=\"What is 2 plus 2?\")])"
   ]
  },
  {
   "cell_type": "code",
   "execution_count": 12,
   "id": "32e6c604",
   "metadata": {},
   "outputs": [
    {
     "data": {
      "text/plain": [
       "[{'name': 'add',\n",
       "  'args': {'a': 2, 'b': 2},\n",
       "  'id': 'ym3qbfn3q',\n",
       "  'type': 'tool_call'}]"
      ]
     },
     "execution_count": 12,
     "metadata": {},
     "output_type": "execute_result"
    }
   ],
   "source": [
    "llm_with_tools.invoke([HumanMessage(content=\"What is 2 plus 2?\")]).tool_calls"
   ]
  },
  {
   "cell_type": "code",
   "execution_count": 13,
   "id": "1043899c",
   "metadata": {},
   "outputs": [],
   "source": [
    "### Chatbot with LangGraph\n",
    "from langchain_core.messages import AnyMessage\n",
    "from langgraph.graph import StateGraph, END, START\n",
    "from langgraph.graph.message import add_messages\n",
    "from langgraph.prebuilt import ToolNode, tools_condition\n",
    "from IPython.display import display, Image\n",
    "from typing_extensions import TypedDict\n",
    "from typing import Annotated"
   ]
  },
  {
   "cell_type": "code",
   "execution_count": 14,
   "id": "0e684da4",
   "metadata": {},
   "outputs": [],
   "source": [
    "class State(TypedDict):\n",
    "    messages: Annotated[list[AnyMessage], add_messages]"
   ]
  },
  {
   "cell_type": "code",
   "execution_count": 15,
   "id": "c21f25c2",
   "metadata": {},
   "outputs": [],
   "source": [
    "# Node function\n",
    "def tool_calling(state : State):\n",
    "    return {\"messages\" : [llm_with_tools.invoke(state[\"messages\"])]}"
   ]
  },
  {
   "cell_type": "code",
   "execution_count": 16,
   "id": "269a6582",
   "metadata": {},
   "outputs": [],
   "source": [
    "## Build graph\n",
    "\n",
    "builder = StateGraph(State)\n",
    "\n",
    "builder.add_node('tool_calling', tool_calling)\n",
    "builder.add_node(\"tools\", ToolNode(tools))\n",
    "\n",
    "builder.add_edge(START, \"tool_calling\")\n",
    "builder.add_conditional_edges(\n",
    "    \"tool_calling\",\n",
    "    tools_condition\n",
    ")\n",
    "builder.add_edge(\"tools\", \"tool_calling\")\n",
    "\n",
    "graph = builder.compile()"
   ]
  },
  {
   "cell_type": "code",
   "execution_count": 17,
   "id": "30712f9d",
   "metadata": {},
   "outputs": [
    {
     "data": {
      "image/png": "[encoded data removed]",
      "text/plain": [
       "<IPython.core.display.Image object>"
      ]
     },
     "metadata": {},
     "output_type": "display_data"
    }
   ],
   "source": [
    "display(Image(graph.get_graph().draw_mermaid_png()))"
   ]
  },
  {
   "cell_type": "code",
   "execution_count": 18,
   "id": "813476a5",
   "metadata": {},
   "outputs": [
    {
     "name": "stdout",
     "output_type": "stream",
     "text": [
      "================================\u001b[1m Human Message \u001b[0m=================================\n",
      "\n",
      "Provide me the top 10 recent AI news for August 2025,add 5 plus 5 and then multiply by 2 \n",
      "==================================\u001b[1m Ai Message \u001b[0m==================================\n",
      "Tool Calls:\n",
      "  tavily_search_results_json (8exbm7826)\n",
      " Call ID: 8exbm7826\n",
      "  Args:\n",
      "    query: top 10 recent AI news August 2025\n",
      "  add (v0cq5yrbq)\n",
      " Call ID: v0cq5yrbq\n",
      "  Args:\n",
      "    a: 5\n",
      "    b: 5\n",
      "  multiply (n7qcze6jt)\n",
      " Call ID: n7qcze6jt\n",
      "  Args:\n",
      "    a: 10\n",
      "    b: 2\n",
      "=================================\u001b[1m Tool Message \u001b[0m=================================\n",
      "Name: tavily_search_results_json\n",
      "\n",
      "[{\"title\": \"AI News Briefs BULLETIN BOARD for August 2025\", \"url\": \"https://radicaldatascience.wordpress.com/2025/08/04/ai-news-briefs-bulletin-board-for-august-2025/\", \"content\": \"[8/4/2025] Kaggle Introduces Game Arena: New Competitive Benchmark for AI – Today, Kaggle\\\\, in partnership with Google DeepMind, launched the Kaggle Game Arena, a new public benchmarking platform where top AI models compete head-to-head in strategic games to provide a more robust and dynamic measure of their true capabilities. It’s launching with an inaugural live AI Chess Exhibition Tournament featuring models from top AI labs, and commentary from world-renowned chess players like Hikaru [...] [8/4/2025] A new, privacy-preserving paradigm for model training – Training powerful language models depends on diverse, high-quality data. But while there’s growing momentum to build models with transparent training recipes, data remains the biggest bottleneck. [...] “We’re introducing a new way to train [AI] in a more collective, collaborative way,” Sewon Min, research lead on FlexOlmo, says. Min created FlexOlmo with colleagues Weijia Shi, Akshita Bhagia, and Kevin Farhat. “FlexOlmo is a new technical solution that enables data owners to train a model on their own private data and combine it with other models trained by others on their own private data.”\", \"score\": 0.90227455}, {\"title\": \"AI News August 2025: In-Depth and Concise\", \"url\": \"https://theaitrack.com/ai-news-august-2025-in-depth-and-concise/\", \"content\": \"Google’s Gemini Deep Think became the first AI model officially certified with a gold-medal score at the 2025 International Math Olympiad, solving 5 of 6 problems. OpenAI matched the feat independently. The achievement marks a turning point in AI’s reasoning and abstract problem-solving ability.\\n\\n## Recommended\\n\\n## Latest AI News\\n\\n## Popular Picks\\n\\n## Trending\\n\\nCopyright © 2025 The AI Track | Powered by Content Republic | Please read our Privacy Policy & Terms of Use\\n\\nOptimized by NitroPack.io [...] 26 tech firms signed the EU’s GPAI Code to align with the AI Act, now enforceable. Meta refused to sign, and Belgium opposed the Code, demanding stronger creator protections. Google backed the Code despite warning of innovation risks and legal uncertainty.\\n\\nChina Reported a Total of 1,509 Large AI Models – Most Worldwide - Image Credit - ChatGPT, The AI Track\\nChina Reported a Total of 1,509 Large AI Models – Most Worldwide - Image Credit - ChatGPT, The AI Track [...] China’s new international AI cooperation organization, launched at WAIC 2025, aims to align AI development, ethics, and access under a shared governance model. The move opposes the US deregulation strategy and expands China’s influence across the Global South.\", \"score\": 0.8755427}, {\"title\": \"Last Week in AI — August 3, 2025 - by Jonathan Fulton - Medium\", \"url\": \"https://medium.com/jonathans-musings/last-week-in-ai-august-3-2025-c00a3abfb6f0\", \"content\": \"Sign up\\n\\nSign in\\n\\nSign up\\n\\nSign in\\n\\n## Jonathan’s Musings\\n\\nJonathan’s Musings\\n\\nAn eclectic set of musings from Jonathan Fulton\\n\\n# Last Week in AI — August 3, 2025\\n\\nJonathan Fulton\\n\\n--\\n\\nListen\\n\\nShare\\n\\n# Model Wars & Scaling Ambitions\\n\\nOpenAI GPT-5 Imminent  \\n OpenAI gears up to launch GPT-5 in early August, a unified system combining multiple specialized models with boosted reasoning. Early signs suggest mini/nano versions and major dev tooling updates are also incoming.  \\n Axios Report → [...] BlinkOps Raises $50M for AI Ops Automation  \\n BlinkOps secures funding to grow its platform automating enterprise ops workflows with AI agents.  \\n [Venture Beat →]\\n\\n# AI Meets Industry\\n\\nHealthcare: $400M+ in AI Raises\\n\\nCybersecurity Gets AI-Boosted\\n\\nCreative & Entertainment: Wizard of Oz Goes AI  \\n The Las Vegas Sphere reimagined Wizard of Oz with AI-enhanced visuals across a 160,000 sq-ft LED dome.  \\n TechCrunch →\\n\\nAuto & Energy: Car IQ + China Power Grid\\n\\n# Research Highlights [...] LLMs Learn Strategy Through Chess?  \\n New study explores how post-training with chess can induce strategic reasoning in LLMs.  \\n [arXiv →]\\n\\nDynamiCare: Multi-Agent Medical AI  \\n Researchers propose a dynamic, multi-agent framework for collaborative clinical decision-making.\\n\\nDFReg: Physics-Inspired Weight Regularization  \\n A new neural net regularization method boosts stability using physics principles.\\n\\nDefense Systems Get Smarter (and Safer)\\n\\n# Governance & Global Moves\", \"score\": 0.87348515}, {\"title\": \"AI: “This Changes Everything”. August 4, 2025 | by Frank S. Robinson\", \"url\": \"https://medium.com/@franksrobinson/ai-this-changes-everything-a0b88993b430\", \"content\": \"There’s also what’s been called the “alignment problem,” regarding the possibility of an AI acting at odds with human interests. As with philosopher Nick Bostrom’s hypothetical of an AI tasked with maximizing paper clip production, resulting in a world full of paper clips with no humans. I’ve been skeptical of scenarios where a rogue AI takes over the world and dispenses with humanity. But a much bigger threat comes from humans themselves — bad people putting AI to bad uses. A recent article in [...] websites get less traffic — undermining their basic business models, not only selling stuff, but also selling ads. Google itself, of course, also loses ad revenue. [...] There’s much speculation about coming AGI — Artificial General Intelligence — more comprehensively doing what human brains do, and of course doing it better, outstripping our own intelligence. Seems to me we’re actually already there. Even a “primitive” AI like ChatGPT has command of vastly more information than a human does, and moreover, can integrate that information better, quicker, and often, if you will, insightfully.\", \"score\": 0.82795376}, {\"title\": \"AI Update, August 1, 2025: AI News and Views From the Past Week\", \"url\": \"https://www.marketingprofs.com/opinions/2025/53515/ai-update-august-1-2025-ai-news-and-views-from-the-past-week\", \"content\": \"evolving preferences for safer, enterprise-friendly AI tools, influencing marketing technology decisions and signaling potential partnerships with emerging AI providers like Anthropic. [...] Chinese AI firms form alliances to build domestic tech ecosystem. In response to US chip export restrictions, Chinese AI companies launched two alliances connecting model developers and chipmakers. New products include Huawei's CloudMatrix 384 AI system, Tencent's 3D world model, Baidu's virtual livestreaming tech, and Alibaba's AI glasses. Importance for marketers: Strengthened domestic AI ecosystems in China could shift technology sourcing and innovation patterns, influencing regional [...] Anthropic overtakes OpenAI in enterprise AI market share. Anthropic now leads the enterprise large language model market with 32% usage, surpassing OpenAI, which formerly had a 50% share. Enterprises favor Anthropic's Claude models for reliability, safety, and performance, especially in coding tasks where it holds 42% share. Increased enterprise AI budgets and Anthropic's focus on compliance and specialized solutions contributed to its rise. Importance for marketers: This shift highlights\", \"score\": 0.8190992}]\n",
      "=================================\u001b[1m Tool Message \u001b[0m=================================\n",
      "Name: add\n",
      "\n",
      "10\n",
      "=================================\u001b[1m Tool Message \u001b[0m=================================\n",
      "Name: multiply\n",
      "\n",
      "20\n",
      "==================================\u001b[1m Ai Message \u001b[0m==================================\n",
      "\n",
      "### Top AI News for August 2025:\n",
      "1. **Kaggle Game Arena Launch**  \n",
      "   - Kaggle and Google DeepMind introduced a competitive benchmark for AI models in strategic games (e.g., chess).  \n",
      "   - [Read more](https://radicaldatascience.wordpress.com/2025/08/04/ai-news-briefs-bulletin-board-for-august-2025/)  \n",
      "\n",
      "2. **Privacy-Preserving Model Training**  \n",
      "   - FlexOlmo enables collaborative training of AI models using private data without sharing raw data.  \n",
      "   - [Read more](https://radicaldatascience.wordpress.com/2025/08/04/ai-news-briefs-bulletin-board-for-august-2025/)  \n",
      "\n",
      "3. **AI Math Olympiad Milestone**  \n",
      "   - Google’s Gemini Deep Think and OpenAI models achieved gold-medal scores at the 2025 International Math Olympiad.  \n",
      "   - [Read more](https://theaitrack.com/ai-news-august-2025-in-depth-and-concise/)  \n",
      "\n",
      "4. **EU AI Act Enforcement and Global Alliances**  \n",
      "   - 26 tech firms signed the EU’s GPAI Code (Meta refused). China launched an international AI governance group opposing U.S. deregulation.  \n",
      "   - [Read more](https://theaitrack.com/ai-news-august-2025-in-depth-and-concise/)  \n",
      "\n",
      "5. **GPT-5 Launch and AI Industry Trends**  \n",
      "   - OpenAI’s GPT-5 (August 2025) combines multiple specialized models. AI advances in healthcare, cybersecurity, and automotive sectors were highlighted.  \n",
      "   - [Read more](https://medium.com/jonathans-musings/last-week-in-ai-august-3-2025-c00a3abfb6f0)  \n",
      "\n",
      "---\n",
      "\n",
      "**Math Result**:  \n",
      "$(5 + 5) \\times 2 = 20$\n"
     ]
    }
   ],
   "source": [
    "messages = graph.invoke({\"messages\" : HumanMessage(content=\"Provide me the top 10 recent AI news for August 2025,add 5 plus 5 and then multiply by 2 \")})\n",
    "\n",
    "for message in messages[\"messages\"]:\n",
    "    message.pretty_print()\n",
    "    "
   ]
  },
  {
   "cell_type": "code",
   "execution_count": 19,
   "id": "e7bbc1ca",
   "metadata": {},
   "outputs": [
    {
     "name": "stdout",
     "output_type": "stream",
     "text": [
      "================================\u001b[1m Human Message \u001b[0m=================================\n",
      "\n",
      "What is machine learning?\n",
      "==================================\u001b[1m Ai Message \u001b[0m==================================\n",
      "Tool Calls:\n",
      "  wikipedia (f9zawvvwx)\n",
      " Call ID: f9zawvvwx\n",
      "  Args:\n",
      "    query: Machine learning\n",
      "=================================\u001b[1m Tool Message \u001b[0m=================================\n",
      "Name: wikipedia\n",
      "\n",
      "Page: Machine learning\n",
      "Summary: Machine learning (ML) is a field of study in artificial intelligence concerned with the development and study of statistical algorithms that can learn from data and generalise to unseen data, and thus perform tasks wit\n",
      "==================================\u001b[1m Ai Message \u001b[0m==================================\n",
      "\n",
      "Machine learning (ML) is a field of study within artificial intelligence (AI) focused on developing statistical algorithms that enable systems to **learn from data**, identify patterns, and **generalize to unseen data**. These algorithms improve their performance on tasks over time without requiring explicit programming for each specific case. \n",
      "\n",
      "Key aspects include:\n",
      "- **Learning from data**: Algorithms use training data to build models.\n",
      "- **Generalization**: Models apply learned patterns to make predictions or decisions on new, unseen data.\n",
      "- **Applications**: Used in areas like image recognition, natural language processing, recommendation systems, and more.\n",
      "\n",
      "It is foundational to modern AI, enabling computers to adapt and solve complex problems autonomously.\n"
     ]
    }
   ],
   "source": [
    "messages = graph.invoke({\"messages\" : HumanMessage(content=\"What is machine learning?\")})\n",
    "\n",
    "for message in messages[\"messages\"]:\n",
    "    message.pretty_print()"
   ]
  },
  {
   "cell_type": "markdown",
   "id": "659534a7",
   "metadata": {},
   "source": [
    "## Agent Memory"
   ]
  },
  {
   "cell_type": "code",
   "execution_count": 22,
   "id": "e3f9c621",
   "metadata": {},
   "outputs": [
    {
     "name": "stdout",
     "output_type": "stream",
     "text": [
      "================================\u001b[1m Human Message \u001b[0m=================================\n",
      "\n",
      "My name is Mahadi Hasan\n",
      "==================================\u001b[1m Ai Message \u001b[0m==================================\n",
      "\n",
      "Hello Mahadi Hasan! Nice to meet you. How can I assist you today?\n"
     ]
    }
   ],
   "source": [
    "messages = graph.invoke({\"messages\" : HumanMessage(content=\"My name is Mahadi Hasan\")})\n",
    "\n",
    "for message in messages[\"messages\"]:\n",
    "    message.pretty_print()"
   ]
  },
  {
   "cell_type": "code",
   "execution_count": 23,
   "id": "c9f8424a",
   "metadata": {},
   "outputs": [
    {
     "name": "stdout",
     "output_type": "stream",
     "text": [
      "================================\u001b[1m Human Message \u001b[0m=================================\n",
      "\n",
      "Who am I?\n",
      "==================================\u001b[1m Ai Message \u001b[0m==================================\n",
      "\n",
      "The question \"Who am I?\" is quite ambiguous. Could you clarify what you're asking about? Are you trying to understand your own identity, or are you asking about the AI assistant's identity?提供更多细节 will help me assist you better.\n"
     ]
    }
   ],
   "source": [
    "messages = graph.invoke({\"messages\" : HumanMessage(content=\"Who am I?\")})\n",
    "\n",
    "for message in messages[\"messages\"]:\n",
    "    message.pretty_print()"
   ]
  },
  {
   "cell_type": "markdown",
   "id": "dbadf13e",
   "metadata": {},
   "source": [
    "#### LangGraph can use a checkpointer to automatically save the graph state after each step"
   ]
  },
  {
   "cell_type": "code",
   "execution_count": null,
   "id": "13b8a659",
   "metadata": {},
   "outputs": [],
   "source": [
    "## Build graph\n",
    "\n",
    "builder = StateGraph(State)\n",
    "\n",
    "builder.add_node('tool_calling', tool_calling)\n",
    "builder.add_node(\"tools\", ToolNode(tools))\n",
    "\n",
    "builder.add_edge(START, \"tool_calling\")\n",
    "builder.add_conditional_edges(\n",
    "    \"tool_calling\",\n",
    "    tools_condition\n",
    ")\n",
    "builder.add_edge(\"tools\", \"tool_calling\")\n"
   ]
  },
  {
   "cell_type": "code",
   "execution_count": 30,
   "id": "f4501f31",
   "metadata": {},
   "outputs": [
    {
     "data": {
      "image/png": "[encoded data removed]",
      "text/plain": [
       "<IPython.core.display.Image object>"
      ]
     },
     "metadata": {},
     "output_type": "display_data"
    }
   ],
   "source": [
    "from langgraph.checkpoint.memory import MemorySaver\n",
    "\n",
    "memory = MemorySaver()\n",
    "\n",
    "graph_memory = builder.compile(checkpointer=memory)\n",
    "\n",
    "display(Image(graph_memory.get_graph().draw_mermaid_png()))"
   ]
  },
  {
   "cell_type": "code",
   "execution_count": 34,
   "id": "027601c9",
   "metadata": {},
   "outputs": [
    {
     "name": "stdout",
     "output_type": "stream",
     "text": [
      "================================\u001b[1m Human Message \u001b[0m=================================\n",
      "\n",
      "My name is Mahadi Hasan\n",
      "==================================\u001b[1m Ai Message \u001b[0m==================================\n",
      "\n",
      "Hello, Mahadi Hasan! How can I assist you today?\n"
     ]
    }
   ],
   "source": [
    "## specify the thread (collection of checkpointer)\n",
    "\n",
    "config = {\n",
    "    \"configurable\" : {\"thread_id\" : \"1\"}\n",
    "}\n",
    "\n",
    "messages = graph_memory.invoke({\"messages\" : HumanMessage(content=\"My name is Mahadi Hasan\")}, config=config)\n",
    "\n",
    "for message in messages[\"messages\"]:\n",
    "    message.pretty_print()\n"
   ]
  },
  {
   "cell_type": "code",
   "execution_count": 35,
   "id": "58dfa9b8",
   "metadata": {},
   "outputs": [
    {
     "name": "stdout",
     "output_type": "stream",
     "text": [
      "================================\u001b[1m Human Message \u001b[0m=================================\n",
      "\n",
      "My name is Mahadi Hasan\n",
      "==================================\u001b[1m Ai Message \u001b[0m==================================\n",
      "\n",
      "Hello, Mahadi Hasan! How can I assist you today?\n",
      "================================\u001b[1m Human Message \u001b[0m=================================\n",
      "\n",
      "Who am I?\n",
      "==================================\u001b[1m Ai Message \u001b[0m==================================\n",
      "\n",
      "You are Mahadi Hasan, as you introduced yourself earlier. Is there something specific you'd like to discuss or ask about?\n"
     ]
    }
   ],
   "source": [
    "messages = graph_memory.invoke({\"messages\" : HumanMessage(content=\"Who am I?\")}, config=config)\n",
    "\n",
    "for message in messages[\"messages\"]:\n",
    "    message.pretty_print()"
   ]
  },
  {
   "cell_type": "code",
   "execution_count": null,
   "id": "2082d76d",
   "metadata": {},
   "outputs": [],
   "source": []
  }
 ],
 "metadata": {
  "kernelspec": {
   "display_name": "Python 3",
   "language": "python",
   "name": "python3"
  },
  "language_info": {
   "codemirror_mode": {
    "name": "ipython",
    "version": 3
   },
   "file_extension": ".py",
   "mimetype": "text/x-python",
   "name": "python",
   "nbconvert_exporter": "python",
   "pygments_lexer": "ipython3",
   "version": "3.12.0"
  }
 },
 "nbformat": 4,
 "nbformat_minor": 5
}
