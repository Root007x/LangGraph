{
 "cells": [
  {
   "cell_type": "markdown",
   "id": "62c3bc2c",
   "metadata": {},
   "source": [
    "### Chatbot with multiple tools using LangGraph"
   ]
  },
  {
   "cell_type": "code",
   "execution_count": 1,
   "id": "1a9e93f5",
   "metadata": {},
   "outputs": [],
   "source": [
    "from langchain_community.tools import ArxivQueryRun, WikipediaQueryRun\n",
    "from langchain_community.utilities import WikipediaAPIWrapper, ArxivAPIWrapper"
   ]
  },
  {
   "cell_type": "code",
   "execution_count": 3,
   "id": "3d4370ac",
   "metadata": {},
   "outputs": [
    {
     "name": "stdout",
     "output_type": "stream",
     "text": [
      "arxiv\n"
     ]
    }
   ],
   "source": [
    "api_wrapper_arxiv = ArxivAPIWrapper(\n",
    "    top_k_results=2,\n",
    "    doc_content_chars_max=500\n",
    ")\n",
    "\n",
    "arxiv  = ArxivQueryRun(api_wrapper=api_wrapper_arxiv)\n",
    "print(arxiv.name)"
   ]
  },
  {
   "cell_type": "code",
   "execution_count": 4,
   "id": "d9478f66",
   "metadata": {},
   "outputs": [
    {
     "data": {
      "text/plain": [
       "\"Published: 2024-07-22\\nTitle: Attention Is All You Need But You Don't Need All Of It For Inference of Large Language Models\\nAuthors: Georgy Tyukin, Gbetondji J-S Dovonon, Jean Kaddour, Pasquale Minervini\\nSummary: The inference demand for LLMs has skyrocketed in recent months, and serving\\nmodels with low latencies remains challenging due to the quadratic input length\\ncomplexity of the attention layers. In this work, we investigate the effect of\\ndropping MLP and attention layers at inference time o\""
      ]
     },
     "execution_count": 4,
     "metadata": {},
     "output_type": "execute_result"
    }
   ],
   "source": [
    "arxiv.invoke(\"Attention is all you need\")"
   ]
  },
  {
   "cell_type": "code",
   "execution_count": 5,
   "id": "efa50df3",
   "metadata": {},
   "outputs": [
    {
     "data": {
      "text/plain": [
       "'wikipedia'"
      ]
     },
     "execution_count": 5,
     "metadata": {},
     "output_type": "execute_result"
    }
   ],
   "source": [
    "api_wrapper_wiki = WikipediaAPIWrapper(\n",
    "    top_k_results=1,\n",
    "    doc_content_chars_max=250\n",
    ")\n",
    "\n",
    "wiki = WikipediaQueryRun(api_wrapper=api_wrapper_wiki)\n",
    "wiki.name"
   ]
  },
  {
   "cell_type": "code",
   "execution_count": 7,
   "id": "9f4e0897",
   "metadata": {},
   "outputs": [
    {
     "data": {
      "text/plain": [
       "'Page: Machine learning\\nSummary: Machine learning (ML) is a field of study in artificial intelligence concerned with the development and study of statistical algorithms that can learn from data and generalise to unseen data, and thus perform tasks wit'"
      ]
     },
     "execution_count": 7,
     "metadata": {},
     "output_type": "execute_result"
    }
   ],
   "source": [
    "wiki.invoke(\"What is Machine Learning?\")"
   ]
  },
  {
   "cell_type": "code",
   "execution_count": 10,
   "id": "67219674",
   "metadata": {},
   "outputs": [
    {
     "data": {
      "text/plain": [
       "True"
      ]
     },
     "execution_count": 10,
     "metadata": {},
     "output_type": "execute_result"
    }
   ],
   "source": [
    "# laod api keys\n",
    "from dotenv import load_dotenv\n",
    "\n",
    "load_dotenv()"
   ]
  },
  {
   "cell_type": "code",
   "execution_count": 11,
   "id": "5c9e96ba",
   "metadata": {},
   "outputs": [],
   "source": [
    "import os\n",
    "\n",
    "os.environ[\"TAVILY_API_KEY\"] = os.getenv(\"TAVILY_API_KEY\")\n",
    "os.environ[\"GROQ_API_KEY\"] = os.getenv(\"GROQ_API_KEY\")"
   ]
  },
  {
   "cell_type": "code",
   "execution_count": 12,
   "id": "fc7486a3",
   "metadata": {},
   "outputs": [
    {
     "name": "stderr",
     "output_type": "stream",
     "text": [
      "C:\\Users\\BOSS\\AppData\\Local\\Temp\\ipykernel_31396\\570048430.py:3: LangChainDeprecationWarning: The class `TavilySearchResults` was deprecated in LangChain 0.3.25 and will be removed in 1.0. An updated version of the class exists in the :class:`~langchain-tavily package and should be used instead. To use it run `pip install -U :class:`~langchain-tavily` and import as `from :class:`~langchain_tavily import TavilySearch``.\n",
      "  tavily = TavilySearchResults()\n"
     ]
    }
   ],
   "source": [
    "from langchain_community.tools.tavily_search import  TavilySearchResults\n",
    "\n",
    "tavily = TavilySearchResults() "
   ]
  },
  {
   "cell_type": "code",
   "execution_count": 13,
   "id": "2b51d3a5",
   "metadata": {},
   "outputs": [
    {
     "data": {
      "text/plain": [
       "[{'title': 'Time.now: Current Time Now',\n",
       "  'url': 'https://time.now/',\n",
       "  'content': 'with confidence. [...] # Current Time Now Worldwide\\n\\n### 🌐 UTC Time\\n\\nWelcome to Time.now.\\n\\n## The current time in UTC is:\\n\\nPlease enable JavaScript for an interactive experience.\\n\\n## Time now in Major Cities\\n\\n### New York City\\n\\n### London\\n\\n### Tokyo\\n\\n### Paris\\n\\n### Sydney\\n\\n### Dubai\\n\\n### Singapore\\n\\n### Los Angeles\\n\\n### Chicago\\n\\n### Hong Kong\\n\\n### Beijing\\n\\n### Moscow\\n\\n## Time now in Countries\\n\\n### 🇺🇸United States\\n\\n### 🇬🇧United Kingdom\\n\\n### 🇯🇵Japan\\n\\n### 🇫🇷France\\n\\n### 🇦🇺Australia\\n\\n### 🇨🇳China\\n\\n### 🇩🇪Germany\\n\\n### 🇮🇳India [...] Free widgets for webmasters:\\n\\n2025 © Time.now - ⌚ Time now is XX:YY:ZZ',\n",
       "  'score': 0.51793724},\n",
       " {'title': 'The World Clock — Worldwide - Time and Date',\n",
       "  'url': 'https://www.timeanddate.com/worldclock/',\n",
       "  'content': '### Current Local Times Around the World\\n\\n\\\\ Adjusted for Daylight Saving Time  (62 places).\\n\\nMon = Monday, August 4, 2025  (142 places).  \\nTue = Tuesday, August 5, 2025  (1 place).\\n\\nUTC (GMT/Zulu)-time: Monday, August 4, 2025 at 11:38:06\\n\\nUTC is Coordinated Universal Time, GMT is Greenwich Mean Time.  \\nGreat Britain/United Kingdom is one hour ahead of UTC during summer.\\n\\nNeed some help?\\n\\n## More Information\\n\\n## Related Link\\n\\n## Related Time Zone Tools [...] | Berlin \\\\ | Mon 1:38 pm | Houston \\\\ | Mon 6:38 am | Moscow | Mon 2:38 pm | Tashkent | Mon 4:38 pm |\\n| Bogota | Mon 6:38 am | Indianapolis \\\\ | Mon 7:38 am | Mumbai | Mon 5:08 pm | Tegucigalpa | Mon 5:38 am |\\n| Boston \\\\ | Mon 7:38 am | Islamabad | Mon 4:38 pm | Nairobi | Mon 2:38 pm | Tehran | Mon 3:08 pm |\\n| Brasilia | Mon 8:38 am | Istanbul | Mon 2:38 pm | Nassau \\\\ | Mon 7:38 am | Tokyo | Mon 8:38 pm | [...] | Beijing | Mon 7:38 pm | Havana \\\\ | Mon 7:38 am | Minneapolis \\\\ | Mon 6:38 am | Suva | Mon 11:38 pm |\\n| Beirut \\\\ | Mon 2:38 pm | Helsinki \\\\ | Mon 2:38 pm | Minsk | Mon 2:38 pm | Sydney | Mon 9:38 pm |\\n| Belgrade \\\\ | Mon 1:38 pm | Hong Kong | Mon 7:38 pm | Montevideo | Mon 8:38 am | Taipei | Mon 7:38 pm |\\n| Bengaluru | Mon 5:08 pm | Honolulu | Mon 1:38 am | Montréal \\\\ | Mon 7:38 am | Tallinn \\\\ | Mon 2:38 pm |',\n",
       "  'score': 0.4948006},\n",
       " {'title': 'Time Zone in New York, New York, USA in 2025 - Time and Date',\n",
       "  'url': 'https://www.timeanddate.com/time/zone/usa/new-york?year=2025',\n",
       "  'content': '|  | Sun, Nov 5 at 2:00 am | EDT → EST | -1 hour (DST end) | UTC-5h |\\n| 2029 | Sun, Mar 11 at 2:00 am | EST → EDT | +1 hour (DST start) | UTC-4h |\\n|  | Sun, Nov 4 at 2:00 am | EDT → EST | -1 hour (DST end) | UTC-5h |\\n|  |  |  |  |  |\\n| --- | --- | --- | --- | --- |\\n| \\\\ All times are local New York time. Next time change is highlighted. | | | | | [...] | Year | Date & Time | Abbreviation | Time Change | Offset After |\\n| --- | --- | --- | --- | --- |\\n| 2020 | Sun, Mar 8 at 2:00 am | EST → EDT | +1 hour (DST start) | UTC-4h |\\n|  | Sun, Nov 1 at 2:00 am | EDT → EST | -1 hour (DST end) | UTC-5h |\\n| 2021 | Sun, Mar 14 at 2:00 am | EST → EDT | +1 hour (DST start) | UTC-4h |\\n|  | Sun, Nov 7 at 2:00 am | EDT → EST | -1 hour (DST end) | UTC-5h |\\n| 2022 | Sun, Mar 13 at 2:00 am | EST → EDT | +1 hour (DST start) | UTC-4h | [...] |  | Sun, Nov 6 at 2:00 am | EDT → EST | -1 hour (DST end) | UTC-5h |\\n| 2023 | Sun, Mar 12 at 2:00 am | EST → EDT | +1 hour (DST start) | UTC-4h |\\n|  | Sun, Nov 5 at 2:00 am | EDT → EST | -1 hour (DST end) | UTC-5h |\\n| 2024 | Sun, Mar 10 at 2:00 am | EST → EDT | +1 hour (DST start) | UTC-4h |\\n|  | Sun, Nov 3 at 2:00 am | EDT → EST | -1 hour (DST end) | UTC-5h |\\n| 2025 | Sun, Mar 9 at 2:00 am | EST → EDT | +1 hour (DST start) | UTC-4h |',\n",
       "  'score': 0.37524903},\n",
       " {'title': 'Countdown to Aug 4, 2025 9:59:08 am in UTC',\n",
       "  'url': 'https://www.timeanddate.com/countdown/to?iso=20250804T095908&p0=0&tz=UTC',\n",
       "  'content': \"timeanddate.com\\n\\n# Time since Aug 4, 2025 9:59:08 am started in UTC\\n\\n# Countdown Timer\\n\\nZoom\\n\\n|  |  |\\n| --- | --- |\\n| 0 | days |\\n| 1 | hour |\\n| 98 | minutes |\\n| 5938 | seconds |\\n\\nsince Monday, August 4, 2025 at 9:59:08 am (UTC time)\\n\\nZoom\\n\\n0 days, 1 hour, 38 minutes, 58 seconds\\n\\nsince Monday, August 4, 2025 at 9:59:08 am (UTC time)\\n\\nCurrent time is Monday, August 4, 2025 at 11:38:06 UTC\\n\\nYou may need to press Reload or Refresh on your browser to update the numbers.\\n\\ntimeanddate.com logo [...] Illustration of a pink shield with a white heart.\\n\\n#### Love Our Site? Become a Supporter\\n\\nThe timeanddate logo\\n\\n© Time and Date AS 1995–2025\\n\\n#### Company\\n\\n#### Legal\\n\\n#### Services\\n\\n#### Sites\\n\\n#### Follow Us\\n\\n© Time and Date AS 1995–2025.\\nPrivacy & Terms [...] Create New Countdown\\n\\nCountdown App\\n\\n### Countdown App - Mobile or Tablet\\n\\nCount down to the New Year, birthdays, weddings, birthdays, retirement & more.\\n\\nAndroid | iOS\\n\\nNew Year Trivia\\n\\n### New Year Trivia\\n\\nWho enters the New Year first and last? It takes 26 hours for New Year's Day to arrive in every time zone, from Millenium Island in the east to Baker Island in the west. More\\n\\n## Other Countdown Counters\\n\\n## Related Links\\n\\n### Free Website Countdown\\n\\n... for your website or blog\",\n",
       "  'score': 0.3684062},\n",
       " {'title': 'Countdown to Aug 4, 2025 12:00:52 am in UTC',\n",
       "  'url': 'https://www.timeanddate.com/countdown/to?iso=20250804T000052&p0=0&tz=UTC',\n",
       "  'content': \"timeanddate.com\\n\\n# Time since Aug 4, 2025 12:00:52 am started in UTC\\n\\n# Countdown Timer\\n\\nZoom\\n\\n|  |  |\\n| --- | --- |\\n| 0 | days |\\n| 11 | hours |\\n| 697 | minutes |\\n| 41834 | seconds |\\n\\nsince Monday, August 4, 2025 at 12:00:52 am (UTC time)\\n\\nZoom\\n\\n0 days, 11 hours, 37 minutes, 14 seconds\\n\\nsince Monday, August 4, 2025 at 12:00:52 am (UTC time)\\n\\nCurrent time is Monday, August 4, 2025 at 11:38:06 UTC\\n\\nYou may need to press Reload or Refresh on your browser to update the numbers.\\n\\ntimeanddate.com logo [...] Illustration of a pink shield with a white heart.\\n\\n#### Love Our Site? Become a Supporter\\n\\nThe timeanddate logo\\n\\n© Time and Date AS 1995–2025\\n\\n#### Company\\n\\n#### Legal\\n\\n#### Services\\n\\n#### Sites\\n\\n#### Follow Us\\n\\n© Time and Date AS 1995–2025.\\nPrivacy & Terms [...] Create New Countdown\\n\\nCountdown App\\n\\n### Countdown App - Mobile or Tablet\\n\\nCount down to the New Year, birthdays, weddings, birthdays, retirement & more.\\n\\nAndroid | iOS\\n\\nNew Year Trivia\\n\\n### New Year Trivia\\n\\nWho enters the New Year first and last? It takes 26 hours for New Year's Day to arrive in every time zone, from Millenium Island in the east to Baker Island in the west. More\\n\\n## Other Countdown Counters\\n\\n## Related Links\\n\\n### Free Website Countdown\\n\\n... for your website or blog\",\n",
       "  'score': 0.3578373}]"
      ]
     },
     "execution_count": 13,
     "metadata": {},
     "output_type": "execute_result"
    }
   ],
   "source": [
    "tavily.invoke(\"Today time?\")"
   ]
  },
  {
   "cell_type": "code",
   "execution_count": 42,
   "id": "51862ba2",
   "metadata": {},
   "outputs": [],
   "source": [
    "### combine all to tools in the list\n",
    "\n",
    "tools = [arxiv, wiki, tavily]"
   ]
  },
  {
   "cell_type": "code",
   "execution_count": 43,
   "id": "53f04269",
   "metadata": {},
   "outputs": [],
   "source": [
    "from langchain_groq import ChatGroq\n",
    "from langchain_core.messages import HumanMessage, AIMessage"
   ]
  },
  {
   "cell_type": "code",
   "execution_count": 55,
   "id": "0b73431b",
   "metadata": {},
   "outputs": [],
   "source": [
    "llm = ChatGroq(\n",
    "    model=\"qwen/qwen3-32b\"\n",
    ")\n",
    "\n",
    "llm_with_tools = llm.bind_tools(tools)"
   ]
  },
  {
   "cell_type": "code",
   "execution_count": 56,
   "id": "b9af41c0",
   "metadata": {},
   "outputs": [
    {
     "data": {
      "text/plain": [
       "AIMessage(content='', additional_kwargs={'reasoning_content': 'Okay, the user is asking for current AI news. Let me see which tool I can use here. The available tools are arxiv, wikipedia, and tavily_search_results_json. \\n\\nArxiv is for academic papers, so maybe not the best choice if they want news. Wikipedia might have general information but might not be up-to-date with the latest news. Tavily_search_results_json sounds like a search engine that can fetch recent news articles. That seems like the right tool here.\\n\\nI should call tavily_search_results_json with the query \"current AI news\" to get the latest updates. Let me make sure the parameters are correct. The function requires a query string, so I\\'ll use that. Alright, I\\'ll structure the tool call accordingly.\\n', 'tool_calls': [{'id': 'd2z1r5tsh', 'function': {'arguments': '{\"query\":\"current AI news\"}', 'name': 'tavily_search_results_json'}, 'type': 'function'}]}, response_metadata={'token_usage': {'completion_tokens': 183, 'prompt_tokens': 264, 'total_tokens': 447, 'completion_time': 4.460414715, 'prompt_time': 1.145440503, 'queue_time': 0.053319297999999904, 'total_time': 5.605855218}, 'model_name': 'qwen/qwen3-32b', 'system_fingerprint': 'fp_5cf921caa2', 'service_tier': 'on_demand', 'finish_reason': 'tool_calls', 'logprobs': None}, id='run--b7483549-7eeb-4130-9e3a-692d479bb859-0', tool_calls=[{'name': 'tavily_search_results_json', 'args': {'query': 'current AI news'}, 'id': 'd2z1r5tsh', 'type': 'tool_call'}], usage_metadata={'input_tokens': 264, 'output_tokens': 183, 'total_tokens': 447})"
      ]
     },
     "execution_count": 56,
     "metadata": {},
     "output_type": "execute_result"
    }
   ],
   "source": [
    "llm_with_tools.invoke([HumanMessage(content=f\"Current AI news?\")])"
   ]
  },
  {
   "cell_type": "code",
   "execution_count": 57,
   "id": "efdd79b3",
   "metadata": {},
   "outputs": [
    {
     "data": {
      "text/plain": [
       "[{'name': 'tavily_search_results_json',\n",
       "  'args': {'query': 'recent AI news'},\n",
       "  'id': 'jx8mejfh0',\n",
       "  'type': 'tool_call'}]"
      ]
     },
     "execution_count": 57,
     "metadata": {},
     "output_type": "execute_result"
    }
   ],
   "source": [
    "llm_with_tools.invoke([HumanMessage(content=f\"What is recent AI news?\")]).tool_calls"
   ]
  },
  {
   "cell_type": "code",
   "execution_count": 27,
   "id": "3a86773c",
   "metadata": {},
   "outputs": [],
   "source": [
    "### Chatbot with LangGraph\n",
    "from langchain_core.messages import AnyMessage\n",
    "from langgraph.graph import StateGraph, END, START\n",
    "from langgraph.graph.message import add_messages\n",
    "from langgraph.prebuilt import ToolNode, tools_condition\n",
    "from IPython.display import display, Image\n",
    "from typing_extensions import TypedDict\n",
    "from typing import Annotated"
   ]
  },
  {
   "cell_type": "code",
   "execution_count": 47,
   "id": "757b1886",
   "metadata": {},
   "outputs": [],
   "source": [
    "# State\n",
    "class State(TypedDict):\n",
    "    messages : Annotated[list[AnyMessage], add_messages]"
   ]
  },
  {
   "cell_type": "code",
   "execution_count": 48,
   "id": "c8efe234",
   "metadata": {},
   "outputs": [],
   "source": [
    "## Node definition\n",
    "def tool_llm(state: State):\n",
    "    return {\"messages\" : [llm_with_tools.invoke(state[\"messages\"])]}"
   ]
  },
  {
   "cell_type": "code",
   "execution_count": 49,
   "id": "516e307e",
   "metadata": {},
   "outputs": [],
   "source": [
    "builder = StateGraph(State)\n",
    "\n",
    "builder.add_node(\"tool_llm\", tool_llm)\n",
    "builder.add_node(\"tools\", ToolNode(tools))\n",
    "\n",
    "builder.add_edge(START, \"tool_llm\")\n",
    "builder.add_conditional_edges(\n",
    "    \"tool_llm\",\n",
    "    tools_condition\n",
    ")\n",
    "builder.add_edge(\"tools\", END)\n",
    "\n",
    "graph = builder.compile()"
   ]
  },
  {
   "cell_type": "code",
   "execution_count": 50,
   "id": "f6ce8ba7",
   "metadata": {},
   "outputs": [
    {
     "data": {
      "image/png": "[encoded data removed]",
      "text/plain": [
       "<IPython.core.display.Image object>"
      ]
     },
     "metadata": {},
     "output_type": "display_data"
    }
   ],
   "source": [
    "display(Image(graph.get_graph().draw_mermaid_png()))"
   ]
  },
  {
   "cell_type": "code",
   "execution_count": 60,
   "id": "b0b9e40d",
   "metadata": {},
   "outputs": [
    {
     "name": "stdout",
     "output_type": "stream",
     "text": [
      "================================\u001b[1m Human Message \u001b[0m=================================\n",
      "\n",
      "What is attention all you need?\n",
      "==================================\u001b[1m Ai Message \u001b[0m==================================\n",
      "Tool Calls:\n",
      "  arxiv (3295p9rqe)\n",
      " Call ID: 3295p9rqe\n",
      "  Args:\n",
      "    query: Attention Is All You Need\n",
      "=================================\u001b[1m Tool Message \u001b[0m=================================\n",
      "Name: arxiv\n",
      "\n",
      "Published: 2024-07-22\n",
      "Title: Attention Is All You Need But You Don't Need All Of It For Inference of Large Language Models\n",
      "Authors: Georgy Tyukin, Gbetondji J-S Dovonon, Jean Kaddour, Pasquale Minervini\n",
      "Summary: The inference demand for LLMs has skyrocketed in recent months, and serving\n",
      "models with low latencies remains challenging due to the quadratic input length\n",
      "complexity of the attention layers. In this work, we investigate the effect of\n",
      "dropping MLP and attention layers at inference time o\n"
     ]
    }
   ],
   "source": [
    "## Invocation\n",
    "messages = graph.invoke({\"messages\" : HumanMessage(content=f\"What is attention all you need?\")})\n",
    "\n",
    "for message in messages[\"messages\"]:\n",
    "    message.pretty_print()\n",
    "    "
   ]
  },
  {
   "cell_type": "code",
   "execution_count": 61,
   "id": "1767744f",
   "metadata": {},
   "outputs": [
    {
     "name": "stdout",
     "output_type": "stream",
     "text": [
      "================================\u001b[1m Human Message \u001b[0m=================================\n",
      "\n",
      "Provide me the top 10 recent AI news for July 2025\n",
      "==================================\u001b[1m Ai Message \u001b[0m==================================\n",
      "Tool Calls:\n",
      "  tavily_search_results_json (kfysf6e6d)\n",
      " Call ID: kfysf6e6d\n",
      "  Args:\n",
      "    query: top 10 recent AI news July 2025\n",
      "=================================\u001b[1m Tool Message \u001b[0m=================================\n",
      "Name: tavily_search_results_json\n",
      "\n",
      "[{\"title\": \"From Hype to Reality: 5 AI Breakthroughs of July 2025 Transforming ...\", \"url\": \"https://medium.com/@rana.ash1997/from-hype-to-reality-5-ai-breakthroughs-of-july-2025-transforming-engineering-devops-bacb49e15fc4\", \"content\": \"So, let’s unpack the 5 unmissable AI trends from July 2025 that are fundamentally reshaping how we build, deploy, and manage software. Get ready, because some of these might just blow your mind.\\n\\n# 1. The Agentic AI Explosion: Beyond Assistants, Towards Autonomous Teammates [...] # 5. The AI Arms Race Accelerates: Billions Poured into Infrastructure & Talent\\n\\nThe competition among tech giants is heating up in a way I haven’t seen since the early cloud wars, and they’re throwing hundreds of billions of dollars at AI infrastructure and talent acquisition. It’s truly staggering. [...] # My Two Cents 💡\\n\\nThis past month has truly underscored that AI isn’t a separate discipline; it’s rapidly becoming the foundational layer of software engineering. For us in DevOps, this means our role isn’t just evolving; it’s undergoing a fundamental transformation. We’re not just deploying applications; we’re orchestrating intelligent systems. We’re not just managing infrastructure; we’re enabling AI agents to interact with it autonomously.\", \"score\": 0.926683}, {\"title\": \"Major Tech Breakthroughs of July 2025: AI Gets Smarter, But Also ...\", \"url\": \"https://medium.com/@shivashanker7337/major-tech-breakthroughs-of-july-2025-ai-gets-smarter-but-also-more-complex-5968c89a8886\", \"content\": \"On July 24, 2025, Anthropic launched Claude 4, and it’s making waves as the world’s best coding AI. The new model comes in two flavors — Claude Opus 4 and Claude Sonnet 4 — both claiming to outperform everything else in the market with impressive scores on SWE-bench (72.5%) and Terminal-bench (43.2%). [...] Crescendo.ai partnered with Amazon on July 17, 2025, to integrate Nova Sonic, a high-speed LLM model, into its voice AI platform, drastically reducing latency and improving natural fluency across 50+ languages.\\n\\n# Security and Privacy Concerns\\n\\nJuly 2025 brought concerning cybersecurity news. Chinese hackers successfully breached the US National Guard and remained undetected for months, highlighting vulnerabilities in critical infrastructure. [...] On July 23, 2025, President Trump unveiled his comprehensive AI action plan at the Andrew W. Mellon Auditorium in Washington. The plan focuses on three main pillars: accelerating innovation, building AI infrastructure in the United States, and making American hardware and software the global standard for AI. The initiative includes removing Biden-era AI export restrictions and rolling back regulatory barriers.\", \"score\": 0.9220975}, {\"title\": \"July 26–August 1, 2025: Top 10 AI Breakthroughs Revolutionizing ...\", \"url\": \"https://medium.com/@CherryZhouTech/ai-news-july-26-august-1-2025-top-10-ai-breakthroughs-revolutionizing-our-world-2c87ecc84cdf\", \"content\": \"Sign up\\n\\nSign in\\n\\nSign up\\n\\nSign in\\n\\n# AI News | July 26–August 1, 2025: Top 10 AI Breakthroughs Revolutionizing Our World\\n\\n## From AI boyfriends “Valentine” to Midjourney’s new feature —10 tech innovations you can’t miss this week!\\n\\nCherryZhou\\n\\n--\\n\\nListen\\n\\nShare\\n\\nAI News | July 26–August 1 [...] The AI coding assistant’s rapid adoption highlights its dominance in developer tools, with GitHub citing productivity boosts as a key driver. Competitors like Amazon’s CodeWhisperer trail far behind.\\n\\n## 6. Google’s Imagen 4 Ranks Among Top AI Image Generators\\n\\nGoogle’s upgraded Imagen 4 Ultra now ranks third on Artificial Analysis’s leaderboard, rivaling OpenAI’s GPT-4o and Seedream 3.0. [...] Welcome to this week’s AI News Roundup! Discover the future today! Stay updated with the newest breakthroughs, research insights, and real-world AI applications. Let’s explore the exciting world of artificial intelligence together.\\n\\n## 1. Musk Announces Video Generator “Imagine” and AI Boyfriend “Valentine” for Grok Heavy Users\\n\\nElon Musk revealed on social media that beta versions of the video generator “Imagine” and AI companion “Valentine” will soon launch for Grok Heavy subscribers.\", \"score\": 0.9183121}, {\"title\": \"The Top AI News in July 2025 You May Have Missed\", \"url\": \"https://chieflyproduct.substack.com/p/the-top-ai-news-in-july-2025-you-may-have-missed\", \"content\": \"TL;DR  \\nThree game-changing developments emerged in July 2025 that will reshape how you should think about AI investments: the EU AI Act's August enforcement deadline is creating compliance urgency; breakthrough coding productivity studies reveal concerning gaps between expectations and reality; and enterprise AI adoption is hitting a critical inflection point where governance becomes non-negotiable.\\n\\n### 1. EU AI Act Enforcement: The August 2026 Deadline You Can't Ignore [...] Immediate Actions (Next 30 Days):\\n\\nCompliance Audit: Complete EU AI Act readiness assessment\\n\\nReality Check: Reassess AI productivity assumptions with rigorous measurement\\n\\nGovernance Upgrade: Implement systematic AI oversight mechanisms\\n\\nStrategic Positioning (Next 90 Days):\\n\\nAgent Architecture: Design your AI agent strategy\\n\\nOpen-Source Evaluation: Assess opportunities from the DeepSeek learning\\n\\nTalent Investment: Scale AI literacy across your workforce [...] Independent assessment of AI governance and controls - whether through upskilled internal teams or third-party specialists - will be critical in 2025 and beyond\\n\\npeople walking on road near well-lit buildings\\n\\n### 4. The Agentic AI Enterprise Revolution Accelerates\\n\\nMicrosoft's Build 2025 showcased the ‘era of AI agents’, with major advancements including Copilot customisation, multi-agent orchestration, and the Azure AI Foundry as an ‘AI agent factory’.\", \"score\": 0.91795975}, {\"title\": \"Latest AI Breakthroughs and News: May, June, July 2025\", \"url\": \"https://www.crescendo.ai/news/latest-ai-news-and-updates\", \"content\": \"AI Boosts Early Detection of Diabetic Eye Disease. Date: July 16, 2025. Summary: New research shows AI can accurately screen for diabetic retinopathy—a leading\", \"score\": 0.8719229}]\n"
     ]
    }
   ],
   "source": [
    "## Invocation\n",
    "messages = graph.invoke({\"messages\" : HumanMessage(content=f\"Provide me the top 10 recent AI news for July 2025\")})\n",
    "\n",
    "for message in messages[\"messages\"]:\n",
    "    message.pretty_print()"
   ]
  },
  {
   "cell_type": "code",
   "execution_count": 62,
   "id": "b1890359",
   "metadata": {},
   "outputs": [
    {
     "name": "stdout",
     "output_type": "stream",
     "text": [
      "================================\u001b[1m Human Message \u001b[0m=================================\n",
      "\n",
      "What is machine Learning\n",
      "==================================\u001b[1m Ai Message \u001b[0m==================================\n",
      "Tool Calls:\n",
      "  wikipedia (5jr13m0mv)\n",
      " Call ID: 5jr13m0mv\n",
      "  Args:\n",
      "    query: Machine learning\n",
      "=================================\u001b[1m Tool Message \u001b[0m=================================\n",
      "Name: wikipedia\n",
      "\n",
      "Page: Machine learning\n",
      "Summary: Machine learning (ML) is a field of study in artificial intelligence concerned with the development and study of statistical algorithms that can learn from data and generalise to unseen data, and thus perform tasks wit\n"
     ]
    }
   ],
   "source": [
    "## Invocation\n",
    "messages = graph.invoke({\"messages\" : HumanMessage(content=f\"What is machine Learning\")})\n",
    "\n",
    "for message in messages[\"messages\"]:\n",
    "    message.pretty_print()"
   ]
  },
  {
   "cell_type": "code",
   "execution_count": null,
   "id": "f948025a",
   "metadata": {},
   "outputs": [],
   "source": []
  }
 ],
 "metadata": {
  "kernelspec": {
   "display_name": "Python 3",
   "language": "python",
   "name": "python3"
  },
  "language_info": {
   "codemirror_mode": {
    "name": "ipython",
    "version": 3
   },
   "file_extension": ".py",
   "mimetype": "text/x-python",
   "name": "python",
   "nbconvert_exporter": "python",
   "pygments_lexer": "ipython3",
   "version": "3.12.0"
  }
 },
 "nbformat": 4,
 "nbformat_minor": 5
}
