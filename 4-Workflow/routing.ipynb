{
 "cells": [
  {
   "cell_type": "markdown",
   "id": "82849f3b",
   "metadata": {},
   "source": [
    "#### Routing is LangGraph refers to the ability to conditionally determine which node to execute next based on the current state or the output of a node."
   ]
  },
  {
   "cell_type": "code",
   "execution_count": null,
   "id": "6faf06c5",
   "metadata": {},
   "outputs": [],
   "source": []
  },
  {
   "cell_type": "code",
   "execution_count": null,
   "id": "b2d7cad2",
   "metadata": {},
   "outputs": [],
   "source": []
  },
  {
   "cell_type": "code",
   "execution_count": null,
   "id": "3446a75b",
   "metadata": {},
   "outputs": [],
   "source": []
  },
  {
   "cell_type": "code",
   "execution_count": null,
   "id": "50cae163",
   "metadata": {},
   "outputs": [],
   "source": []
  }
 ],
 "metadata": {
  "kernelspec": {
   "display_name": "Python 3",
   "language": "python",
   "name": "python3"
  },
  "language_info": {
   "name": "python",
   "version": "3.12.0"
  }
 },
 "nbformat": 4,
 "nbformat_minor": 5
}
