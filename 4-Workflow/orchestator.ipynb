{
 "cells": [
  {
   "cell_type": "markdown",
   "id": "a21883dc",
   "metadata": {},
   "source": [
    "### In the orchestrator-workers workflow, a central LLM dynamically breaks down tasks, delegates them to worker LLMs, and synthesizers"
   ]
  },
  {
   "cell_type": "code",
   "execution_count": 1,
   "id": "205347f0",
   "metadata": {},
   "outputs": [],
   "source": [
    "from langchain_groq import ChatGroq\n",
    "import os\n",
    "from dotenv import load_dotenv\n",
    "\n",
    "load_dotenv()\n",
    "\n",
    "os.environ[\"GROQ_API_KEY\"] = os.getenv(\"GROQ_API_KEY\")\n",
    "os.environ[\"LANGCHAIN_API_KEY\"] = os.getenv(\"LANGCHAIN_API_KEY\")"
   ]
  },
  {
   "cell_type": "code",
   "execution_count": 3,
   "id": "b4d793bb",
   "metadata": {},
   "outputs": [
    {
     "data": {
      "text/plain": [
       "AIMessage(content='Hello. How can I assist you today?', additional_kwargs={}, response_metadata={'token_usage': {'completion_tokens': 10, 'prompt_tokens': 36, 'total_tokens': 46, 'completion_time': 0.009678791, 'prompt_time': 0.010529731, 'queue_time': 0.049636369, 'total_time': 0.020208522}, 'model_name': 'llama-3.3-70b-versatile', 'system_fingerprint': 'fp_3f3b593e33', 'service_tier': 'on_demand', 'finish_reason': 'stop', 'logprobs': None}, id='run--949526c6-04d7-44de-898c-2eec5d45f9e1-0', usage_metadata={'input_tokens': 36, 'output_tokens': 10, 'total_tokens': 46})"
      ]
     },
     "execution_count": 3,
     "metadata": {},
     "output_type": "execute_result"
    }
   ],
   "source": [
    "llm = ChatGroq(\n",
    "    model= \"llama-3.3-70b-versatile\"\n",
    ")\n",
    "\n",
    "result = llm.invoke(\"Hello\")\n",
    "result"
   ]
  },
  {
   "cell_type": "code",
   "execution_count": 28,
   "id": "60ab097d",
   "metadata": {},
   "outputs": [],
   "source": [
    "from typing import Annotated, List\n",
    "import operator\n",
    "from typing_extensions import Literal\n",
    "from pydantic import BaseModel, Field\n",
    "from langchain_core.messages import HumanMessage, SystemMessage\n",
    "from typing_extensions import TypedDict\n",
    "from langgraph.graph import START, END, StateGraph\n",
    "from IPython.display import Image, display, Markdown"
   ]
  },
  {
   "cell_type": "code",
   "execution_count": 11,
   "id": "12f58b6c",
   "metadata": {},
   "outputs": [],
   "source": [
    "class Section(BaseModel):\n",
    "    name : str = Field(description=\"Name for this section of the report\")\n",
    "    description : str = Field(description=\"Brief Overview of the main topics and concepts of the section\")\n",
    "    \n",
    "class Sections(BaseModel):\n",
    "    sections : List[Section] = Field(\n",
    "        description=\"Section of the report\"\n",
    "    )\n",
    "    \n",
    "planner = llm.with_structured_output(Sections)"
   ]
  },
  {
   "cell_type": "markdown",
   "id": "69b370b3",
   "metadata": {},
   "source": [
    "### Creating Workers Dynamically in LangGraph"
   ]
  },
  {
   "cell_type": "code",
   "execution_count": 12,
   "id": "762cb6b7",
   "metadata": {},
   "outputs": [],
   "source": [
    "# Graph state\n",
    "class State(TypedDict):\n",
    "    topic : str\n",
    "    sections : list[Section]\n",
    "    completed_sections : Annotated[\n",
    "        list,\n",
    "        operator.add\n",
    "    ]\n",
    "    final_report : str\n",
    "    \n",
    "# Worker state\n",
    "class WorkerState(TypedDict):\n",
    "    section : Section\n",
    "    completed_sections : Annotated[list, operator.add]"
   ]
  },
  {
   "cell_type": "code",
   "execution_count": 19,
   "id": "c12b01ad",
   "metadata": {},
   "outputs": [],
   "source": [
    "# Node\n",
    "def orchestrator(state : State):\n",
    "    report_sections = planner.invoke(\n",
    "        [\n",
    "            SystemMessage(content = \"Generate a plan for the report\"),\n",
    "            HumanMessage(content = f\"Here is the report topic : {state[\"topic\"]}\")\n",
    "        ]\n",
    "    )\n",
    "    print(\"Report Sections : \", report_sections)\n",
    "    \n",
    "    return {\"sections\" : report_sections.sections}\n",
    "\n",
    "\n",
    "def llm_call(state : WorkerState):\n",
    "    \n",
    "    section = llm.invoke(\n",
    "        [\n",
    "            SystemMessage(\n",
    "                content = \"Write a report section following the provided name and description. Include no preamble for each section. Use markdown formatting.\"\n",
    "            ),\n",
    "            HumanMessage(\n",
    "                content=f\"Here is the section name : {state[\"section\"].name} and description: {state[\"section\"].description}\"\n",
    "            )\n",
    "        ]\n",
    "    )\n",
    "    return {\"completed_sections\" : [section.content]}\n",
    "    "
   ]
  },
  {
   "cell_type": "code",
   "execution_count": 20,
   "id": "2e169169",
   "metadata": {},
   "outputs": [
    {
     "name": "stderr",
     "output_type": "stream",
     "text": [
      "C:\\Users\\BOSS\\AppData\\Local\\Temp\\ipykernel_19884\\4049780201.py:1: LangGraphDeprecatedSinceV10: Importing Send from langgraph.constants is deprecated. Please use 'from langgraph.types import Send' instead. Deprecated in LangGraph V1.0 to be removed in V2.0.\n",
      "  from langgraph.constants import Send\n"
     ]
    }
   ],
   "source": [
    "from langgraph.constants import Send"
   ]
  },
  {
   "cell_type": "code",
   "execution_count": 21,
   "id": "42de1ca5",
   "metadata": {},
   "outputs": [],
   "source": [
    "# conditional edge\n",
    "def assign_workers(state : State):\n",
    "    return [Send(\"llm_call\", {\"section\" : s}) for s in state[\"sections\"]]\n",
    "\n",
    "\n",
    "def synthesizer(state : State):\n",
    "    completed_section = state[\"completed_sections\"]\n",
    "    \n",
    "    completed_report_sections = \"\\n\\n----\\n\\n\".join(completed_section)\n",
    "    \n",
    "    return {\"final_report\" : completed_report_sections}"
   ]
  },
  {
   "cell_type": "code",
   "execution_count": 23,
   "id": "6c97cc98",
   "metadata": {},
   "outputs": [],
   "source": [
    "## Graph builder\n",
    "\n",
    "orchestrator_worker_builder = StateGraph(State)\n",
    "\n",
    "orchestrator_worker_builder.add_node(\"orchestrator\",orchestrator)\n",
    "orchestrator_worker_builder.add_node(\"llm_call\",llm_call)\n",
    "orchestrator_worker_builder.add_node(\"synthesizer\", synthesizer)\n",
    "\n",
    "# edges\n",
    "orchestrator_worker_builder.add_edge(START, \"orchestrator\")\n",
    "orchestrator_worker_builder.add_conditional_edges(\n",
    "    \"orchestrator\",\n",
    "    assign_workers,\n",
    "    [\"llm_call\"]\n",
    ")\n",
    "orchestrator_worker_builder.add_edge(\"llm_call\", \"synthesizer\")\n",
    "orchestrator_worker_builder.add_edge(\"synthesizer\", END)\n",
    "\n",
    "\n",
    "orchestrator_worker = orchestrator_worker_builder.compile()\n",
    "\n"
   ]
  },
  {
   "cell_type": "code",
   "execution_count": 26,
   "id": "b60e64f4",
   "metadata": {},
   "outputs": [
    {
     "data": {
      "image/png": "[encoded data removed]",
      "text/plain": [
       "<IPython.core.display.Image object>"
      ]
     },
     "metadata": {},
     "output_type": "display_data"
    }
   ],
   "source": [
    "display(Image(orchestrator_worker.get_graph().draw_mermaid_png()))"
   ]
  },
  {
   "cell_type": "code",
   "execution_count": 29,
   "id": "88c48f70",
   "metadata": {},
   "outputs": [
    {
     "name": "stdout",
     "output_type": "stream",
     "text": [
      "Report Sections :  sections=[Section(name='Introduction to Agentic AI RAGs', description='Overview of Agentic AI RAGs, their purpose, and significance'), Section(name='Technical Details of Agentic AI RAGs', description='In-depth explanation of the architecture, components, and functionality of Agentic AI RAGs'), Section(name='Applications and Use Cases of Agentic AI RAGs', description='Exploration of the various applications, use cases, and potential impact of Agentic AI RAGs'), Section(name='Challenges and Limitations of Agentic AI RAGs', description='Discussion of the challenges, limitations, and potential risks associated with Agentic AI RAGs'), Section(name='Conclusion and Future Directions for Agentic AI RAGs', description='Summary of key findings and future research directions for Agentic AI RAGs')]\n"
     ]
    },
    {
     "data": {
      "text/markdown": [
       "### Introduction to Agentic AI RAGs\n",
       "Agentic AI RAGs (Retrieve, Augment, Generate) are a type of artificial intelligence model designed to process and generate human-like text based on a given prompt or topic. The primary purpose of Agentic AI RAGs is to assist and augment human capabilities in tasks that require extensive research, writing, and critical thinking. \n",
       "#### Key Characteristics\n",
       "* **Retrieve**: Agentic AI RAGs can retrieve relevant information from a vast database or the internet, allowing them to provide accurate and up-to-date information on a wide range of topics.\n",
       "* **Augment**: These models can augment human capabilities by analyzing and processing large amounts of data, identifying patterns, and providing insights that may not be immediately apparent to humans.\n",
       "* **Generate**: Agentic AI RAGs can generate high-quality text based on the retrieved and augmented information, making them useful for tasks such as content creation, research paper writing, and report generation.\n",
       "#### Significance\n",
       "The significance of Agentic AI RAGs lies in their potential to revolutionize the way we approach tasks that require extensive research, writing, and critical thinking. By leveraging the capabilities of Agentic AI RAGs, humans can focus on higher-level tasks that require creativity, empathy, and problem-solving skills, leading to increased productivity and efficiency. Additionally, Agentic AI RAGs can help bridge the knowledge gap by providing access to information and educational resources to people who may not have had access to them otherwise.\n",
       "\n",
       "----\n",
       "\n",
       "### Technical Details of Agentic AI RAGs\n",
       "#### Architecture\n",
       "Agentic AI RAGs (Retrieval-Augmented Generation) are built upon a modular architecture, comprising three primary components: \n",
       "* **Retriever**: responsible for retrieving relevant information from a vast knowledge base, \n",
       "* **Generator**: tasked with generating text based on the input prompt and the retrieved information, and \n",
       "* **Ranker**: evaluates the generated text and selects the most suitable output.\n",
       "\n",
       "#### Components\n",
       "The key components of Agentic AI RAGs include:\n",
       "* **Knowledge Base**: a massive repository of text data that serves as the foundation for the retriever to fetch relevant information.\n",
       "* **Embeddings**: used to represent the input prompt, the knowledge base, and the generated text in a high-dimensional vector space, facilitating efficient retrieval and comparison.\n",
       "* **Neural Networks**: the core of the generator and ranker, comprising transformer-based architectures that enable complex pattern recognition and text generation.\n",
       "\n",
       "#### Functionality\n",
       "The functionality of Agentic AI RAGs can be broken down into the following stages:\n",
       "1. **Prompt Analysis**: the input prompt is analyzed and embedded into a vector representation.\n",
       "2. **Knowledge Retrieval**: the retriever fetches relevant information from the knowledge base based on the prompt embedding.\n",
       "3. **Text Generation**: the generator creates text based on the input prompt and the retrieved information.\n",
       "4. **Ranking and Selection**: the ranker evaluates the generated text and selects the most suitable output.\n",
       "5. **Post-processing**: the final output is refined and polished through additional processing steps, such as spell-checking and fluency evaluation.\n",
       "\n",
       "----\n",
       "\n",
       "### Applications and Use Cases of Agentic AI RAGs\n",
       "#### Introduction to Applications\n",
       "Agentic AI RAGs (Retrieve, Augment, Generate) have a wide range of applications across various industries, leveraging their ability to process and generate human-like text based on the context provided. These applications can be broadly categorized into content creation, customer service, education, and research.\n",
       "\n",
       "#### Content Creation\n",
       "* **Content Generation**: Agentic AI RAGs can generate high-quality content, such as articles, blog posts, and social media updates, saving time and effort for content creators.\n",
       "* **Creative Writing**: They can assist writers by suggesting plot twists, character developments, and even entire drafts, revolutionizing the creative writing process.\n",
       "* **Translation and Localization**: By understanding the context and nuances of languages, Agentic AI RAGs can improve translation services, making content more accessible globally.\n",
       "\n",
       "#### Customer Service\n",
       "* **Chatbots and Virtual Assistants**: Integrating Agentic AI RAGs into chatbots and virtual assistants enhances their ability to understand and respond to customer inquiries more accurately and empathetically.\n",
       "* **Personalized Recommendations**: They can analyze customer interactions and preferences to offer personalized product or service recommendations, enhancing the customer experience.\n",
       "* **Feedback Analysis**: Agentic AI RAGs can analyze customer feedback, identifying patterns and areas for improvement, which can inform business strategies.\n",
       "\n",
       "#### Education\n",
       "* **Intelligent Tutoring Systems**: These AI models can create customized learning materials and adaptive assessments, providing students with a more personalized learning experience.\n",
       "* **Automated Grading**: They can assist teachers by grading assignments and exams, freeing up time for more critical aspects of education.\n",
       "* **Language Learning Tools**: Agentic AI RAGs can generate interactive language lessons, conversations, and exercises, making language learning more engaging and effective.\n",
       "\n",
       "#### Research\n",
       "* **Literature Review Automation**: They can quickly scan through vast amounts of research papers, identifying relevant studies, and summarizing key findings.\n",
       "* **Hypothesis Generation**: By analyzing existing research, Agentic AI RAGs can suggest new hypotheses for further investigation, potentially leading to groundbreaking discoveries.\n",
       "* **Data Analysis**: They can analyze complex datasets, identifying patterns and correlations that might elude human researchers, and generate reports based on their findings.\n",
       "\n",
       "#### Potential Impact\n",
       "The integration of Agentic AI RAGs across these applications and use cases has the potential to significantly impact various aspects of society and industry. They can enhance efficiency, personalize experiences, and uncover new insights. However, it's crucial to address challenges related to data privacy, bias, and the ethical use of AI to ensure that these technologies benefit humanity as a whole.\n",
       "\n",
       "----\n",
       "\n",
       "### Challenges and Limitations of Agentic AI RAGs\n",
       "#### Introduction to Challenges\n",
       "Agentic AI RAGs (Retrieval-Augmented Generation) face numerous challenges and limitations that hinder their widespread adoption and effectiveness. These challenges can be broadly categorized into technical, ethical, and societal limitations.\n",
       "\n",
       "#### Technical Challenges\n",
       "* **Data Quality and Availability**: Agentic AI RAGs require large amounts of high-quality training data to generate accurate and informative responses. However, collecting and curating such data can be time-consuming and expensive.\n",
       "* **Model Complexity**: The complexity of Agentic AI RAGs can make them difficult to train and fine-tune, requiring significant computational resources and expertise.\n",
       "* **Explainability and Transparency**: The black-box nature of Agentic AI RAGs can make it challenging to understand how they arrive at their responses, limiting their trustworthiness and reliability.\n",
       "\n",
       "#### Ethical Challenges\n",
       "* **Bias and Fairness**: Agentic AI RAGs can perpetuate and amplify existing biases present in the training data, leading to unfair and discriminatory outcomes.\n",
       "* **Privacy and Security**: The use of Agentic AI RAGs raises concerns about data privacy and security, particularly when dealing with sensitive or personal information.\n",
       "* **Accountability and Responsibility**: The autonomous nature of Agentic AI RAGs can make it difficult to assign accountability and responsibility for their actions and decisions.\n",
       "\n",
       "#### Societal Challenges\n",
       "* **Job Displacement and Automation**: The increasing use of Agentic AI RAGs can lead to job displacement and automation, particularly in industries where tasks are repetitive or can be easily automated.\n",
       "* **Dependence on Technology**: Over-reliance on Agentic AI RAGs can lead to a decline in human skills and abilities, making us vulnerable to technological failures or cyber attacks.\n",
       "* **Social Isolation and Polarization**: The use of Agentic AI RAGs can exacerbate social isolation and polarization by creating echo chambers and reinforcing existing beliefs and biases.\n",
       "\n",
       "#### Mitigating Challenges and Limitations\n",
       "To address these challenges and limitations, it is essential to develop and implement strategies that prioritize transparency, explainability, and accountability in Agentic AI RAGs. This can be achieved through:\n",
       "* **Multidisciplinary Research**: Encouraging collaboration between technologists, social scientists, and ethicists to develop more comprehensive and nuanced understanding of Agentic AI RAGs.\n",
       "* **Regulatory Frameworks**: Establishing regulatory frameworks that ensure the safe and responsible development and deployment of Agentic AI RAGs.\n",
       "* **Public Awareness and Education**: Raising public awareness and education about the benefits and risks associated with Agentic AI RAGs, promoting a more informed and critical discourse about their use and impact.\n",
       "\n",
       "----\n",
       "\n",
       "### Conclusion and Future Directions for Agentic AI RAGs\n",
       "#### Summary of Key Findings\n",
       "The development of Agentic AI RAGs (Retrieval-Augmented Generators) has shown promising results in improving the performance and efficiency of AI models. Key findings include:\n",
       "* Enhanced contextual understanding and response generation capabilities\n",
       "* Improved handling of complex and open-ended tasks\n",
       "* Increased ability to learn from experience and adapt to new situations\n",
       "* Potential for more effective human-AI collaboration and decision-making\n",
       "\n",
       "#### Future Research Directions\n",
       "To further advance the field of Agentic AI RAGs, future research directions may include:\n",
       "* **Multimodal Interaction**: Exploring the integration of Agentic AI RAGs with multimodal interfaces to enable more natural and intuitive human-AI interaction\n",
       "* **Explainability and Transparency**: Developing methods to provide insights into the decision-making processes of Agentic AI RAGs and ensure transparency in their actions\n",
       "* **Scalability and Robustness**: Investigating techniques to improve the scalability and robustness of Agentic AI RAGs in complex and dynamic environments\n",
       "* **Ethical Considerations**: Examining the ethical implications of Agentic AI RAGs and developing guidelines for their responsible development and deployment\n",
       "* **Real-World Applications**: Applying Agentic AI RAGs to real-world problems and domains, such as healthcare, education, and finance, to demonstrate their practical value and potential impact."
      ],
      "text/plain": [
       "<IPython.core.display.Markdown object>"
      ]
     },
     "execution_count": 29,
     "metadata": {},
     "output_type": "execute_result"
    }
   ],
   "source": [
    "state = orchestrator_worker.invoke({\"topic\" : \"Create a report on Agentic AI RAGs\"})\n",
    "\n",
    "Markdown(state[\"final_report\"])"
   ]
  },
  {
   "cell_type": "code",
   "execution_count": null,
   "id": "f8ec7bb3",
   "metadata": {},
   "outputs": [],
   "source": []
  }
 ],
 "metadata": {
  "kernelspec": {
   "display_name": "Python 3",
   "language": "python",
   "name": "python3"
  },
  "language_info": {
   "codemirror_mode": {
    "name": "ipython",
    "version": 3
   },
   "file_extension": ".py",
   "mimetype": "text/x-python",
   "name": "python",
   "nbconvert_exporter": "python",
   "pygments_lexer": "ipython3",
   "version": "3.12.0"
  }
 },
 "nbformat": 4,
 "nbformat_minor": 5
}
